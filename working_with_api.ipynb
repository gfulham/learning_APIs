{
 "cells": [
  {
   "cell_type": "markdown",
   "id": "timely-platform",
   "metadata": {},
   "source": [
    "# Working with APIs\n",
    "\n",
    "Data sets are popular resources, but they're not always useful.\n",
    "\n",
    "Here are a few situations when data sets don't work well:\n",
    "\n",
    "- The data changes frequently.\n",
    "- You only want a small piece of a much larger data set. Reddit comments are one example. If you want to pull only your own comments from reddit, it doesn't make much sense to download the entire reddit database and then filter it for your comments.\n",
    "- Repeated computation. For example, Spotify has an API that can tell you the genre of a piece of music. You could create your own classifier and use it to categorize music, but you would never have as much data as Spotify has.\n",
    "\n",
    "In these situations, an application program interface (API) is the solution. In this mission, we'll query a basic API to retrieve data about the International Space Station (ISS). \n",
    "\n",
    "Organizations host their APIs on web servers. When you type www.google.com in your browser's address bar, your computer is actually asking the www.google.com server for a web page, the server returns the page to your browser.\n",
    "\n",
    "APIs work much the same way, except instead of your web browser asking for a web page, your program asks for data. The API usually returns this data in JavaScript Object Notation (JSON) format. We'll discuss JSON more later on in this mission.\n",
    "\n",
    "We make an API request to the web server with the data we want. The server then replies and sends it to us. In Python, we do this using the requests library."
   ]
  },
  {
   "cell_type": "markdown",
   "id": "engaging-prime",
   "metadata": {},
   "source": [
    "### Get the Data"
   ]
  },
  {
   "cell_type": "code",
   "execution_count": 1,
   "id": "disabled-waters",
   "metadata": {},
   "outputs": [
    {
     "name": "stdout",
     "output_type": "stream",
     "text": [
      "200\n",
      "{'Server': 'nginx/1.10.3', 'Date': 'Tue, 09 Mar 2021 19:19:29 GMT', 'Content-Type': 'application/json', 'Content-Length': '112', 'Connection': 'keep-alive', 'access-control-allow-origin': '*'}\n",
      "application/json\n",
      "b'{\"iss_position\": {\"latitude\": \"47.0719\", \"longitude\": \"75.0387\"}, \"message\": \"success\", \"timestamp\": 1615317569}'\n"
     ]
    }
   ],
   "source": [
    "import requests\n",
    "\n",
    "# iss-now endpoint requires two params{lat and long}\n",
    "# more on requirements here: http://open-notify.org/Open-Notify-API/ISS-Pass-Times/\n",
    "# This is the lat and long of New York City\n",
    "params = {\"lat\": 37.78, \"lon\": -122.41}\n",
    "\n",
    "# Open Notify is an open source project to provide a simple programming interface for some of NASA’s awesome data.\n",
    "response = requests.get(\"http://api.open-notify.org/iss-now.json\", params = params) # iss-now is an endpoint\n",
    "# http://open-notify.org/Open-Notify-API/ for a list of possible endpoints\n",
    "\n",
    "# The server will send a status code indicating the success or failure of your request. \n",
    "# You can get the status code of the response from response.status_code.\n",
    "# Assign the status code to the variable status_code.\n",
    "print(response.status_code)\n",
    "\n",
    "# Content-Type tells us the format of the response, and how to decode it.\n",
    "print(response.headers)\n",
    "print(response.headers['Content-Type']) \n",
    "\n",
    "#Retrieve the content of the response\n",
    "print(response.content)\n",
    "\n"
   ]
  },
  {
   "cell_type": "markdown",
   "id": "primary-practitioner",
   "metadata": {},
   "source": [
    "### Status code requests\n",
    "The request we just made returned a status code of 200. Web servers return status codes every time they receive an API request. A status code reports what happened with a request. Here are some codes that are relevant to GET requests:\n",
    "\n",
    "- 200 — Everything went okay, and the server returned a result (if any).\n",
    "- 301 — The server is redirecting you to a different endpoint. This can happen when a company switches domain names, or when an endpoint's name has changed.\n",
    "- 401 — The server thinks you're not authenticated. This happens when you don't send the right credentials to access an API.\n",
    "- 400 — The server thinks you made a bad request. This can happen when you don't send the information the API requires to process your request (among other things).\n",
    "- 403 — The resource you're trying to access is forbidden, and you don't have the right permissions to see it.\n",
    "- 404 — The server didn't find the resource you tried to access."
   ]
  },
  {
   "cell_type": "markdown",
   "id": "equivalent-malaysia",
   "metadata": {},
   "source": [
    "### Request and Response as strings, lists, and dicts\n",
    "\n",
    "The API response we received earlier was a string. Strings are the way we pass information back and forth through APIs, but it's difficult to get the information we want out of them. \n",
    "\n",
    "JSON encodes data structures like lists and dictionaries as strings to ensure that machines can read them easily. \n",
    "\n",
    "Python offers great support for JSON through its json library. We can convert lists and dictionaries to JSON, and vice versa. Our ISS Pass data, for example, is a dictionary encoded as a string in JSON format.\n",
    "\n",
    "The JSON library has two main methods:\n",
    "\n",
    "- dumps — converts it to a string\n",
    "- loads — converts it to a Python object"
   ]
  },
  {
   "cell_type": "code",
   "execution_count": 2,
   "id": "consistent-chrome",
   "metadata": {},
   "outputs": [
    {
     "name": "stdout",
     "output_type": "stream",
     "text": [
      "<class 'list'>\n",
      "<class 'str'>\n",
      "<class 'list'>\n",
      "<class 'str'>\n",
      "<class 'dict'>\n"
     ]
    }
   ],
   "source": [
    "# Try to convert strings to objects and vice-versa\n",
    "\n",
    "# Import the JSON library.\n",
    "import json\n",
    "\n",
    "# Create list\n",
    "best_food_chains = [\"Taco Bell\", \"Shake Shack\", \"Chipotle\"]\n",
    "print(type(best_food_chains))\n",
    "\n",
    "# Convert list to a string.\n",
    "best_food_chains_string = json.dumps(best_food_chains)\n",
    "print(type(best_food_chains_string))\n",
    "\n",
    "# Convert string back to a list.\n",
    "print(type(json.loads(best_food_chains_string)))\n",
    "\n",
    "# Make a dictionary\n",
    "fast_food_franchise = {\n",
    "    \"Subway\": 24722,\n",
    "    \"McDonalds\": 14098,\n",
    "    \"Starbucks\": 10821,\n",
    "    \"Pizza Hut\": 7600\n",
    "}\n",
    "\n",
    "# dump tp create string\n",
    "fast_food_franchise_string = json.dumps(fast_food_franchise)\n",
    "print(type(fast_food_franchise_string))\n",
    "\n",
    "# load to create dictionary\n",
    "fast_food_franchise_2 = json.loads(fast_food_franchise_string)\n",
    "print(type(fast_food_franchise_2))"
   ]
  },
  {
   "cell_type": "markdown",
   "id": "variable-colleague",
   "metadata": {},
   "source": [
    "How to index and pull only the data we need from the response\n",
    "![image](JSON_open_notify.png)"
   ]
  },
  {
   "cell_type": "code",
   "execution_count": 3,
   "id": "derived-albany",
   "metadata": {},
   "outputs": [
    {
     "name": "stdout",
     "output_type": "stream",
     "text": [
      "<class 'dict'> \n",
      "\n",
      "{'message': 'success', 'request': {'altitude': 100, 'datetime': 1615315552, 'latitude': 37.78, 'longitude': -122.41, 'passes': 5}, 'response': [{'duration': 611, 'risetime': 1615355909}, {'duration': 635, 'risetime': 1615361699}, {'duration': 524, 'risetime': 1615367612}, {'duration': 498, 'risetime': 1615373514}, {'duration': 608, 'risetime': 1615379330}]}\n",
      "\n",
      "\n",
      "[{'duration': 611, 'risetime': 1615355909}, {'duration': 635, 'risetime': 1615361699}, {'duration': 524, 'risetime': 1615367612}, {'duration': 498, 'risetime': 1615373514}, {'duration': 608, 'risetime': 1615379330}]\n",
      "\n",
      "\n",
      "{'duration': 611, 'risetime': 1615355909}\n",
      "\n",
      "\n",
      "611\n"
     ]
    }
   ],
   "source": [
    "# Make the same request we did two screens ago.\n",
    "parameters = {\"lat\": 37.78, \"lon\": -122.41}\n",
    "response = requests.get(\"http://api.open-notify.org/iss-pass.json\", params=parameters)\n",
    "\n",
    "# Get the response data as a Python object. Verify that it's a dictionary.\n",
    "json_data = response.json()\n",
    "print(type(json_data),'\\n')\n",
    "print(json_data)\n",
    "print('\\n')\n",
    "print(json_data['response'])\n",
    "print('\\n')\n",
    "print(json_data['response'][0])\n",
    "print('\\n')\n",
    "print(json_data['response'][0]['duration'])\n",
    "first_pass_duration = json_data['response'][0]['duration']"
   ]
  },
  {
   "cell_type": "markdown",
   "id": "liked-minute",
   "metadata": {},
   "source": [
    "### How many people are currently in space?"
   ]
  },
  {
   "cell_type": "code",
   "execution_count": 4,
   "id": "cheap-hamilton",
   "metadata": {},
   "outputs": [
    {
     "name": "stdout",
     "output_type": "stream",
     "text": [
      "{'message': 'success', 'number': 7, 'people': [{'craft': 'ISS', 'name': 'Sergey Ryzhikov'}, {'craft': 'ISS', 'name': 'Kate Rubins'}, {'craft': 'ISS', 'name': 'Sergey Kud-Sverchkov'}, {'craft': 'ISS', 'name': 'Mike Hopkins'}, {'craft': 'ISS', 'name': 'Victor Glover'}, {'craft': 'ISS', 'name': 'Shannon Walker'}, {'craft': 'ISS', 'name': 'Soichi Noguchi'}]}\n",
      "\n",
      "\n",
      "The number of people in space is 7\n"
     ]
    }
   ],
   "source": [
    "# Changing the endpoint from 'iss-pass' to 'astros'\n",
    "response  = requests.get('http://api.open-notify.org/astros.json')\n",
    "\n",
    "\n",
    "# Set response to a variable, \n",
    "\n",
    "json_data = response.json() \n",
    "print(json_data)\n",
    "print('\\n')\n",
    "print('The number of people in space is', json_data['number'])"
   ]
  },
  {
   "cell_type": "code",
   "execution_count": null,
   "id": "modified-finder",
   "metadata": {},
   "outputs": [],
   "source": []
  }
 ],
 "metadata": {
  "kernelspec": {
   "display_name": "reddit_api",
   "language": "python",
   "name": "reddit_api"
  },
  "language_info": {
   "codemirror_mode": {
    "name": "ipython",
    "version": 3
   },
   "file_extension": ".py",
   "mimetype": "text/x-python",
   "name": "python",
   "nbconvert_exporter": "python",
   "pygments_lexer": "ipython3",
   "version": "3.9.2"
  }
 },
 "nbformat": 4,
 "nbformat_minor": 5
}
